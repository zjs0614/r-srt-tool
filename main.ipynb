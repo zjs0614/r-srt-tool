{
 "cells": [
  {
   "cell_type": "markdown",
   "metadata": {},
   "source": []
  },
  {
   "cell_type": "markdown",
   "metadata": {},
   "source": [
    "# 第一步\n",
    "保存原始文件到text.srt\n",
    "运行后，格式化的文件保存到clean.srt"
   ]
  },
  {
   "cell_type": "code",
   "execution_count": 1,
   "metadata": {},
   "outputs": [],
   "source": [
    "import re\n",
    "punc = \"？。＂＃＄％＆＇＊＋，,－／：；＜＝＞＠［＼］＾＿｀｛｜｝｢｣〃「」『』【】〔〕〖〗〘〙〚〛〜〝〞〟〰〾〿–—‘’‛“”„‟…‧﹏.\"\n",
    "\n",
    "def exclude(c: str):\n",
    "  if (c.lower() >= \"a\" and c.lower() <= \"z\") or (c >= \"0\" and c <= \"9\"):\n",
    "    return True\n",
    "  return False\n",
    "\n",
    "def clean(line: str) -> str:\n",
    "  line = line.strip()\n",
    "  line = re.sub(r\"[%s]\" %punc, \" \", line)\n",
    "  new_lines = []\n",
    "  for l in line.split(\" \"):\n",
    "    new_line = l.strip()\n",
    "    if new_line:\n",
    "      if new_lines and (len(new_lines[-1]) + len(new_line) <= 10 or exclude(new_lines[-1][-1]) or exclude(new_line[0])):\n",
    "        new_lines[-1] += f\" {new_line}\"\n",
    "      else:\n",
    "        new_lines.append(new_line)\n",
    "  return new_lines\n",
    "\n",
    "with open(\"text.srt\") as file:\n",
    "    lines = []\n",
    "    for line in file:\n",
    "      if line.strip():\n",
    "        lines.extend(clean(line))\n",
    "\n",
    "with open(\"clean.srt\", \"w\") as file:\n",
    "  for line in lines:\n",
    "    file.write(f\"{line}\\n\")\n",
    "    "
   ]
  },
  {
   "cell_type": "markdown",
   "metadata": {},
   "source": [
    "# 第二步\n",
    "切每句话起终点\n",
    "- 按空格+回车：建立下一句新起点\n",
    "- 按1+回车：退出\n",
    "- 按回车：建立当前句的终点"
   ]
  },
  {
   "cell_type": "code",
   "execution_count": 2,
   "metadata": {},
   "outputs": [],
   "source": [
    "with open(\"clean.srt\") as file:\n",
    "    lines = []\n",
    "    for line in file:\n",
    "        lines.append(line.strip())\n",
    "\n",
    "records = []\n",
    "import time\n",
    "start = time.time()\n",
    "index = 0\n",
    "content = lines[index]\n",
    "\n",
    "while index < len(lines):\n",
    "  s = input(\"####: \" + content)\n",
    "  if s == \" \":\n",
    "    pass\n",
    "  elif s == \"1\":\n",
    "    break\n",
    "  else:\n",
    "    records.append([content, start, time.time()])\n",
    "    index += 1\n",
    "    content = lines[index]\n",
    "  start = time.time()"
   ]
  },
  {
   "cell_type": "markdown",
   "metadata": {},
   "source": [
    "# 第三步\n",
    "设置a为起始秒数，运行后，字幕文件保存到final.srt"
   ]
  },
  {
   "cell_type": "code",
   "execution_count": 3,
   "metadata": {},
   "outputs": [],
   "source": [
    "a = 0\n",
    "\n",
    "count = 1\n",
    "process_records = records[1:]\n",
    "_start = records[0][2]\n",
    "\n",
    "def get_duration(cur):\n",
    "  hour = int(cur / 3600)\n",
    "  min = int(cur / 60)\n",
    "  sec = int(cur) % 60\n",
    "  milsec = int(cur * 1000) % 1000\n",
    "  hour = str(hour) if hour >= 10 else \"0\" + str(hour)\n",
    "  min = str(min) if min >= 10 else \"0\" + str(min)\n",
    "  sec = str(sec) if sec >= 10 else \"0\" + str(sec)\n",
    "  milsec = str(milsec) if milsec >= 100 else (\"0\" + str(milsec) if milsec >= 10 else \"00\"+str(milsec))\n",
    "  return f\"{hour}:{min}:{sec},{milsec}\"\n",
    "\n",
    "new_rows = []\n",
    "\n",
    "for line in process_records:\n",
    "  content, start, end = line[0], line[1], line[2]\n",
    "  new_rows.append(str(count))\n",
    "  new_rows.append(f\"{get_duration(start-_start + a)} --> {get_duration(end-_start + a)}\")\n",
    "  new_rows.append(content)\n",
    "  new_rows.append(\"\")\n",
    "  count += 1\n",
    "with open(\"final.srt\", \"w\") as file:\n",
    "  for line in new_rows:\n",
    "    file.write(f\"{line}\\n\")"
   ]
  }
 ],
 "metadata": {
  "interpreter": {
   "hash": "397704579725e15f5c7cb49fe5f0341eb7531c82d19f2c29d197e8b64ab5776b"
  },
  "kernelspec": {
   "display_name": "Python 3.9.2 64-bit",
   "language": "python",
   "name": "python3"
  },
  "language_info": {
   "codemirror_mode": {
    "name": "ipython",
    "version": 3
   },
   "file_extension": ".py",
   "mimetype": "text/x-python",
   "name": "python",
   "nbconvert_exporter": "python",
   "pygments_lexer": "ipython3",
   "version": "3.9.2"
  },
  "orig_nbformat": 4
 },
 "nbformat": 4,
 "nbformat_minor": 2
}
